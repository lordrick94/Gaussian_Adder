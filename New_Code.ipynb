{
 "cells": [
  {
   "cell_type": "code",
   "execution_count": 1,
   "id": "065431ad",
   "metadata": {},
   "outputs": [],
   "source": [
    "import numpy as np\n",
    "from astropy.io import fits\n",
    "from astropy.coordinates import Angle\n",
    "from astropy import units as u\n",
    "from astropy.modeling.models import Gaussian2D as g2d, Gaussian1D as g1d\n",
    "from matplotlib import pyplot as plt\n",
    "import pandas as pd"
   ]
  },
  {
   "cell_type": "code",
   "execution_count": 2,
   "id": "70497b5f",
   "metadata": {},
   "outputs": [
    {
     "name": "stdout",
     "output_type": "stream",
     "text": [
      "Filename: etest_cube.fits\n",
      "No.    Name      Ver    Type      Cards   Dimensions   Format\n",
      "  0  PRIMARY       1 PrimaryHDU      78   (512, 512, 65, 1)   float32   \n",
      "  1  BEAMS         1 BinTableHDU     30   65R x 5C   [1E, 1E, 1E, 1J, 1J]   \n"
     ]
    }
   ],
   "source": [
    "filename = 'etest_cube.fits'\n",
    "hdul = fits.open(filename)\n",
    "hdul.info()"
   ]
  },
  {
   "cell_type": "code",
   "execution_count": 3,
   "id": "89f79483",
   "metadata": {},
   "outputs": [],
   "source": [
    "hdr = hdul[0].header                        #Header\n",
    "data = hdul[0].data[0]   "
   ]
  },
  {
   "cell_type": "code",
   "execution_count": 17,
   "id": "f0f5c234",
   "metadata": {},
   "outputs": [],
   "source": [
    "sh = data.shape\n",
    "t_x,t_y,t_z = sh[1],sh[2],sh[0]"
   ]
  },
  {
   "cell_type": "code",
   "execution_count": 18,
   "id": "e68e0e2d",
   "metadata": {},
   "outputs": [
    {
     "name": "stdout",
     "output_type": "stream",
     "text": [
      "512 512 65\n"
     ]
    }
   ],
   "source": [
    "print(t_x,t_y,t_z)"
   ]
  },
  {
   "cell_type": "code",
   "execution_count": 6,
   "id": "8c3d18a5",
   "metadata": {},
   "outputs": [],
   "source": [
    "#Calculating Beam to Pixel Ratio\n",
    "cdel_1 = Angle(hdr['CDELT1'],u.degree)      #pixel increment from header\n",
    "dmaj = Angle(hdr['BMAJ'],u.degree)          #BMAJ FWHM from header\n",
    "\n",
    "c_1 = np.abs(cdel_1.arcsec)\n",
    "d_1= dmaj.arcsec\n",
    "\n",
    "cdel_2 = Angle(hdr['CDELT2'],u.degree)      #pixel increment from header\n",
    "dmIN = Angle(hdr['BMIN'],u.degree)          #BMIN FWHM from header\n",
    "\n",
    "c_2 = np.abs(cdel_1.arcsec)\n",
    "d_2 = dmIN.arcsec\n",
    "\n",
    "b_x = int(d_1/c_1);b_y = int(d_2/c_2)\n",
    "\n",
    "v = hdr['BPA']/70139.80849035224\n",
    "bpa = Angle(v,u.radian)"
   ]
  },
  {
   "cell_type": "code",
   "execution_count": 7,
   "id": "750c4e32",
   "metadata": {},
   "outputs": [
    {
     "name": "stdout",
     "output_type": "stream",
     "text": [
      "Enter the Number Channels to Span: 8\n"
     ]
    }
   ],
   "source": [
    "r = input('Enter the Number Channels to Span: ')\n",
    "b_z = int(r)"
   ]
  },
  {
   "cell_type": "code",
   "execution_count": 8,
   "id": "82c2598c",
   "metadata": {},
   "outputs": [
    {
     "name": "stdout",
     "output_type": "stream",
     "text": [
      "Enter the Number of Sources: 7\n"
     ]
    }
   ],
   "source": [
    "n  = input('Enter the Number of Sources: ')\n",
    "ns  = int(n)"
   ]
  },
  {
   "cell_type": "code",
   "execution_count": 9,
   "id": "aeef2b5d",
   "metadata": {},
   "outputs": [
    {
     "data": {
      "text/html": [
       "<div>\n",
       "<style scoped>\n",
       "    .dataframe tbody tr th:only-of-type {\n",
       "        vertical-align: middle;\n",
       "    }\n",
       "\n",
       "    .dataframe tbody tr th {\n",
       "        vertical-align: top;\n",
       "    }\n",
       "\n",
       "    .dataframe thead th {\n",
       "        text-align: right;\n",
       "    }\n",
       "</style>\n",
       "<table border=\"1\" class=\"dataframe\">\n",
       "  <thead>\n",
       "    <tr style=\"text-align: right;\">\n",
       "      <th></th>\n",
       "      <th>x_mean</th>\n",
       "      <th>y_mean</th>\n",
       "      <th>z_mean</th>\n",
       "      <th>Amplitude</th>\n",
       "    </tr>\n",
       "  </thead>\n",
       "  <tbody>\n",
       "    <tr>\n",
       "      <th>0</th>\n",
       "      <td>40</td>\n",
       "      <td>375</td>\n",
       "      <td>25</td>\n",
       "      <td>0.019546</td>\n",
       "    </tr>\n",
       "    <tr>\n",
       "      <th>1</th>\n",
       "      <td>42</td>\n",
       "      <td>247</td>\n",
       "      <td>24</td>\n",
       "      <td>0.019524</td>\n",
       "    </tr>\n",
       "    <tr>\n",
       "      <th>2</th>\n",
       "      <td>58</td>\n",
       "      <td>268</td>\n",
       "      <td>55</td>\n",
       "      <td>0.027748</td>\n",
       "    </tr>\n",
       "    <tr>\n",
       "      <th>3</th>\n",
       "      <td>20</td>\n",
       "      <td>74</td>\n",
       "      <td>9</td>\n",
       "      <td>0.019165</td>\n",
       "    </tr>\n",
       "    <tr>\n",
       "      <th>4</th>\n",
       "      <td>31</td>\n",
       "      <td>113</td>\n",
       "      <td>6</td>\n",
       "      <td>0.019803</td>\n",
       "    </tr>\n",
       "    <tr>\n",
       "      <th>5</th>\n",
       "      <td>31</td>\n",
       "      <td>206</td>\n",
       "      <td>27</td>\n",
       "      <td>0.023655</td>\n",
       "    </tr>\n",
       "    <tr>\n",
       "      <th>6</th>\n",
       "      <td>36</td>\n",
       "      <td>25</td>\n",
       "      <td>57</td>\n",
       "      <td>0.027572</td>\n",
       "    </tr>\n",
       "  </tbody>\n",
       "</table>\n",
       "</div>"
      ],
      "text/plain": [
       "   x_mean  y_mean  z_mean  Amplitude\n",
       "0      40     375      25   0.019546\n",
       "1      42     247      24   0.019524\n",
       "2      58     268      55   0.027748\n",
       "3      20      74       9   0.019165\n",
       "4      31     113       6   0.019803\n",
       "5      31     206      27   0.023655\n",
       "6      36      25      57   0.027572"
      ]
     },
     "execution_count": 9,
     "metadata": {},
     "output_type": "execute_result"
    }
   ],
   "source": [
    "a = 10*np.max(data)\n",
    "Amp = np.random.uniform(a,a/2,ns)\n",
    "s_x = np.random.randint(0,t_x,ns)\n",
    "s_y = np.random.randint(0,t_y,ns)\n",
    "s_z = np.random.randint(0,t_z,ns)\n",
    "\n",
    "df = pd.DataFrame(list(zip(s_x, s_y, s_z, Amp)),columns =['x_mean', 'y_mean', 'z_mean', 'Amplitude'])\n",
    "df.to_csv('source_data.csv')\n",
    "df"
   ]
  },
  {
   "cell_type": "code",
   "execution_count": 10,
   "id": "391ed571",
   "metadata": {
    "scrolled": false
   },
   "outputs": [],
   "source": [
    "def Gaussian_Generator(t_x,t_y,t_z,x_m,y_m,z_m,b_x,b_y,b_z,amp,bpa):\n",
    "    z,y,x = np.ogrid[0:t_z,0:t_y,0:t_x]\n",
    "    g_2 = g2d(amplitude=amp, x_mean=x_m, y_mean=y_m, x_stddev=b_x, y_stddev=b_y, theta=bpa)\n",
    "    g_xy = g_2(x,y)\n",
    "    g_1 = g1d(amplitude=1, mean=z_m, stddev=b_z)\n",
    "    g_z = g_1(z)\n",
    "    gs = g_xy*g_z\n",
    "    return gs"
   ]
  },
  {
   "cell_type": "code",
   "execution_count": 11,
   "id": "d213678f",
   "metadata": {
    "scrolled": true
   },
   "outputs": [
    {
     "ename": "ValueError",
     "evalue": "operands could not be broadcast together with shapes (65,512,512) (65,512,65) ",
     "output_type": "error",
     "traceback": [
      "\u001b[0;31m---------------------------------------------------------------------------\u001b[0m",
      "\u001b[0;31mValueError\u001b[0m                                Traceback (most recent call last)",
      "Input \u001b[0;32mIn [11]\u001b[0m, in \u001b[0;36m<cell line: 1>\u001b[0;34m()\u001b[0m\n\u001b[1;32m      1\u001b[0m \u001b[38;5;28;01mfor\u001b[39;00m (x_m, y_m, z_m, amp) \u001b[38;5;129;01min\u001b[39;00m \u001b[38;5;28mzip\u001b[39m(s_x, s_y, s_z, Amp):\n\u001b[1;32m      2\u001b[0m     gs \u001b[38;5;241m=\u001b[39m Gaussian_Generator(t_x,t_y,t_z,x_m,y_m,z_m,b_x,b_y,b_z,amp)\n\u001b[0;32m----> 3\u001b[0m     hdul[\u001b[38;5;241m0\u001b[39m]\u001b[38;5;241m.\u001b[39mdata[\u001b[38;5;241m0\u001b[39m] \u001b[38;5;241m=\u001b[39m \u001b[43mhdul\u001b[49m\u001b[43m[\u001b[49m\u001b[38;5;241;43m0\u001b[39;49m\u001b[43m]\u001b[49m\u001b[38;5;241;43m.\u001b[39;49m\u001b[43mdata\u001b[49m\u001b[43m[\u001b[49m\u001b[38;5;241;43m0\u001b[39;49m\u001b[43m]\u001b[49m\u001b[38;5;241;43m+\u001b[39;49m\u001b[43mgs\u001b[49m\n",
      "File \u001b[0;32m~/miniconda3/lib/python3.9/site-packages/astropy/units/quantity.py:611\u001b[0m, in \u001b[0;36mQuantity.__array_ufunc__\u001b[0;34m(self, function, method, *inputs, **kwargs)\u001b[0m\n\u001b[1;32m    608\u001b[0m     arrays\u001b[38;5;241m.\u001b[39mappend(converter(input_) \u001b[38;5;28;01mif\u001b[39;00m converter \u001b[38;5;28;01melse\u001b[39;00m input_)\n\u001b[1;32m    610\u001b[0m \u001b[38;5;66;03m# Call our superclass's __array_ufunc__\u001b[39;00m\n\u001b[0;32m--> 611\u001b[0m result \u001b[38;5;241m=\u001b[39m \u001b[38;5;28;43msuper\u001b[39;49m\u001b[43m(\u001b[49m\u001b[43m)\u001b[49m\u001b[38;5;241;43m.\u001b[39;49m\u001b[43m__array_ufunc__\u001b[49m\u001b[43m(\u001b[49m\u001b[43mfunction\u001b[49m\u001b[43m,\u001b[49m\u001b[43m \u001b[49m\u001b[43mmethod\u001b[49m\u001b[43m,\u001b[49m\u001b[43m \u001b[49m\u001b[38;5;241;43m*\u001b[39;49m\u001b[43marrays\u001b[49m\u001b[43m,\u001b[49m\u001b[43m \u001b[49m\u001b[38;5;241;43m*\u001b[39;49m\u001b[38;5;241;43m*\u001b[39;49m\u001b[43mkwargs\u001b[49m\u001b[43m)\u001b[49m\n\u001b[1;32m    612\u001b[0m \u001b[38;5;66;03m# If unit is None, a plain array is expected (e.g., comparisons), which\u001b[39;00m\n\u001b[1;32m    613\u001b[0m \u001b[38;5;66;03m# means we're done.\u001b[39;00m\n\u001b[1;32m    614\u001b[0m \u001b[38;5;66;03m# We're also done if the result was None (for method 'at') or\u001b[39;00m\n\u001b[1;32m    615\u001b[0m \u001b[38;5;66;03m# NotImplemented, which can happen if other inputs/outputs override\u001b[39;00m\n\u001b[1;32m    616\u001b[0m \u001b[38;5;66;03m# __array_ufunc__; hopefully, they can then deal with us.\u001b[39;00m\n\u001b[1;32m    617\u001b[0m \u001b[38;5;28;01mif\u001b[39;00m unit \u001b[38;5;129;01mis\u001b[39;00m \u001b[38;5;28;01mNone\u001b[39;00m \u001b[38;5;129;01mor\u001b[39;00m result \u001b[38;5;129;01mis\u001b[39;00m \u001b[38;5;28;01mNone\u001b[39;00m \u001b[38;5;129;01mor\u001b[39;00m result \u001b[38;5;129;01mis\u001b[39;00m \u001b[38;5;28mNotImplemented\u001b[39m:\n",
      "\u001b[0;31mValueError\u001b[0m: operands could not be broadcast together with shapes (65,512,512) (65,512,65) "
     ]
    }
   ],
   "source": [
    "for (x_m, y_m, z_m, amp) in zip(s_x, s_y, s_z, Amp):\n",
    "    gs = Gaussian_Generator(t_x,t_y,t_z,x_m,y_m,z_m,b_x,b_y,b_z,amp,bpa)\n",
    "    hdul[0].data[0] = hdul[0].data[0]+gs"
   ]
  },
  {
   "cell_type": "code",
   "execution_count": 12,
   "id": "da59642f",
   "metadata": {},
   "outputs": [
    {
     "data": {
      "text/plain": [
       "(65, 512, 65)"
      ]
     },
     "execution_count": 12,
     "metadata": {},
     "output_type": "execute_result"
    }
   ],
   "source": [
    "gs.shape"
   ]
  },
  {
   "cell_type": "code",
   "execution_count": null,
   "id": "6b723c2e",
   "metadata": {},
   "outputs": [],
   "source": [
    "plt.imshow(hdul[0].data[0][45])"
   ]
  },
  {
   "cell_type": "code",
   "execution_count": null,
   "id": "ec6d5f05",
   "metadata": {},
   "outputs": [],
   "source": [
    "hdul.writeto('new_now_file.fits',overwrite=True)"
   ]
  }
 ],
 "metadata": {
  "kernelspec": {
   "display_name": "Python 3 (ipykernel)",
   "language": "python",
   "name": "python3"
  },
  "language_info": {
   "codemirror_mode": {
    "name": "ipython",
    "version": 3
   },
   "file_extension": ".py",
   "mimetype": "text/x-python",
   "name": "python",
   "nbconvert_exporter": "python",
   "pygments_lexer": "ipython3",
   "version": "3.9.12"
  }
 },
 "nbformat": 4,
 "nbformat_minor": 5
}
